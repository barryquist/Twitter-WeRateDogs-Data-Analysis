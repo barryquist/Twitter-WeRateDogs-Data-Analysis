{
 "cells": [
  {
   "cell_type": "markdown",
   "metadata": {},
   "source": [
    "## Wrangle_report"
   ]
  },
  {
   "cell_type": "markdown",
   "metadata": {},
   "source": [
    "### Introduction\n",
    "The dataset that was wrangled was from the tweet archive of Twitter user @dog_rates, also known as WeRateDogs. WeRateDogs is a Twitter account that rates people's dogs with a humorous comment about the dog. WeRateDogs has over 4 million followers and has received international media coverage. This report talks briefly about the steps taken to wrangle (gather, assess and clean) the dataset.\n",
    "\n",
    "### Gather\n",
    "The first dataset known as 'twitter-archive-enhanced.csv' was a .csv file downloaded from the Udacity classroom page. It contained columns mainly on tweet ids, name of dog, dog stages, ratings etc. The second dataset called 'image_predictions.tsv' was a tsv file. This had to include \"sep='\\t'\" when imported into the dataframe because it was a tab separated value file. This dataset contained images of the dogs basically. The third dataset had to be downloaded from twitter using twitter API. Unfortunately I was not granted access by twitter so I imported/read the JSON file provided by Udacity as the alternative. The name of the dataset was tweet_json.txt. This contained the number of retweets and favorites of each tweet.\n",
    "\n",
    "### Assess\n",
    "After gathering all three datasets,They were assessed both visually and programmatically to reveal **8 quality** and **3 tidiness issues**.The following included:\n",
    "\n",
    "**Quality Issues**\n",
    "1. Id name in df_tweets was different from other the id names in other tables\n",
    "\n",
    "2. Drop identified retweets and replies\n",
    "\n",
    "3. Datatype Issues (timestamp column)\n",
    "\n",
    "4. Remove columns that would not be used\n",
    "\n",
    "5. Missing, wrong and incomplete names of Dogs\n",
    "\n",
    "6. Drop Missing, wrong and incomplete names of Dogs\n",
    "\n",
    "7. Source column had excess and unnecessary information\n",
    "\n",
    "8. Columns contained strings that have already been extracted to form new columns\n",
    "\n",
    "**Tidiness Issues**\n",
    "\n",
    "1. A single column for ratings\n",
    "\n",
    "2. The different stages for each dog in twitter-archive-enhanced could be represented under one column (dog_stage)\n",
    "\n",
    "3. Group p1,p2 and p3 under one column , p1_dog,p2_dog,p3_dog another column\n",
    "\n",
    "4. retweet_count, favorite_count, jpg_url, breed and confidence should be part of twitter-archive-enhanced\n",
    "\n",
    "### Clean\n",
    "First off, copies were made of all three datasets to be worked in. The three datasets were cleaned of all quality and tidiness issues. Afterwards all three datasets were merged to form one complete and final dataset\n",
    "\n",
    "### Store\n",
    "This new dataset was stored as twitter_archive_master.csv"
   ]
  },
  {
   "cell_type": "code",
   "execution_count": null,
   "metadata": {},
   "outputs": [],
   "source": []
  }
 ],
 "metadata": {
  "kernelspec": {
   "display_name": "Python 3",
   "language": "python",
   "name": "python3"
  },
  "language_info": {
   "codemirror_mode": {
    "name": "ipython",
    "version": 3
   },
   "file_extension": ".py",
   "mimetype": "text/x-python",
   "name": "python",
   "nbconvert_exporter": "python",
   "pygments_lexer": "ipython3",
   "version": "3.8.5"
  }
 },
 "nbformat": 4,
 "nbformat_minor": 2
}
